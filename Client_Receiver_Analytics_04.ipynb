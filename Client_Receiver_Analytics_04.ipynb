{
 "cells": [
  {
   "cell_type": "code",
   "execution_count": 1,
   "id": "2ce8bda9-7cb6-4d29-8bb3-71377eab96eb",
   "metadata": {},
   "outputs": [],
   "source": [
    "# -------------------------------------\n",
    "# 📌 STEP 0: IMPORT REQUIRED LIBRARIES\n",
    "# -------------------------------------"
   ]
  },
  {
   "cell_type": "code",
   "execution_count": 2,
   "id": "428f7ff4-ab6c-4b0c-b7c0-4d5e22d65094",
   "metadata": {},
   "outputs": [],
   "source": [
    "import os\n",
    "import sqlite3\n",
    "import pandas as pd\n",
    "import time\n",
    "from geopy.distance import geodesic\n",
    "import unittest\n",
    "DB_NAME = \"ais_data.sqlite\""
   ]
  },
  {
   "cell_type": "code",
   "execution_count": 3,
   "id": "c0dc37b1-474b-4c85-8508-a2125a20907c",
   "metadata": {},
   "outputs": [],
   "source": [
    "# ------------------------------------------\n",
    "# 📌 STEP 1: CHECK DATABASE FILE AND TABLES\n",
    "# ------------------------------------------"
   ]
  },
  {
   "cell_type": "code",
   "execution_count": 4,
   "id": "cd0bae85-e68b-480d-b5b2-0dc4ec7689a7",
   "metadata": {},
   "outputs": [
    {
     "name": "stdout",
     "output_type": "stream",
     "text": [
      "✅ Database found at: C:\\Users\\Divya.M\\ais_data.sqlite\n",
      "📋 Tables in DB: [('ais_messages',), ('sqlite_sequence',)]\n",
      "\n",
      "📊 Sample rows from 'ais_messages':\n",
      "   id       mmsi                          timestamp        lat         lon  \\\n",
      "0   1  123456789  2025-04-30T09:38:40.869824+00:00Z  30.732393  121.827393   \n",
      "1   2  123456789  2025-04-30T09:43:40.869824+00:00Z  30.735913  121.856710   \n",
      "2   3  123456789  2025-04-30T09:48:40.869824+00:00Z  30.739435  121.886028   \n",
      "3   4  123456789  2025-04-30T09:53:40.869824+00:00Z  30.742955  121.915345   \n",
      "4   5  123456789  2025-04-30T09:58:40.869824+00:00Z  30.746477  121.944663   \n",
      "\n",
      "   speed  heading  course                                      raw_payload  \n",
      "0   18.0       90    90.0  !AIVDO,1,1,,A,11mg=5OP2l8ecW`AUM33Q2l1P000,0*69  \n",
      "1   18.0       90    90.0  !AIVDO,1,1,,A,11mg=5OP2l8el=DAUUC3Q2l1P000,0*40  \n",
      "2   18.0       90    90.0  !AIVDO,1,1,,A,11mg=5OP2l8etk2AUeSCQ2l1P000,0*28  \n",
      "3   18.0       90    90.0  !AIVDO,1,1,,A,11mg=5OP2l8f5HfAUmkCQ2l1P000,0*2D  \n",
      "4   18.0       90    90.0  !AIVDO,1,1,,A,11mg=5OP2l8f=vLAUv3SQ2l1P000,0*62  \n"
     ]
    }
   ],
   "source": [
    "if not os.path.exists(DB_NAME):\n",
    "    print(f\"❌ Database file '{DB_NAME}' not found in {os.getcwd()}\")\n",
    "else:\n",
    "    print(f\"✅ Database found at: {os.path.abspath(DB_NAME)}\")\n",
    "    with sqlite3.connect(DB_NAME) as conn:\n",
    "        tables = conn.execute(\"SELECT name FROM sqlite_master WHERE type='table';\").fetchall()\n",
    "        print(f\"📋 Tables in DB: {tables}\")\n",
    "        if ('ais_messages',) in tables:\n",
    "            df = pd.read_sql_query(\"SELECT * FROM ais_messages LIMIT 5\", conn)\n",
    "            print(\"\\n📊 Sample rows from 'ais_messages':\")\n",
    "            print(df)\n",
    "        else:\n",
    "            print(\"⚠️ Table 'ais_messages' not found in database.\")"
   ]
  },
  {
   "cell_type": "code",
   "execution_count": 5,
   "id": "126a8a8e-19f6-4957-928c-fdf9d77b465b",
   "metadata": {},
   "outputs": [],
   "source": [
    "# --------------------------\n",
    "# 📌 STEP 2: BASIC DB STATS\n",
    "# --------------------------"
   ]
  },
  {
   "cell_type": "code",
   "execution_count": 6,
   "id": "b5020f87-a850-4e04-b981-d559f83150cb",
   "metadata": {},
   "outputs": [
    {
     "name": "stdout",
     "output_type": "stream",
     "text": [
      "\n",
      "🧠 Basic AIS DB Stats:\n",
      "📦 Total AIS messages: 11487\n",
      "🛥️ Distinct vessels (MMSI): 3\n",
      "⏰ Time range: 2025-04-30T09:38:40.869824+00:00Z → 2025-05-18T11:38:41.054395+00:00Z\n"
     ]
    }
   ],
   "source": [
    "with sqlite3.connect(DB_NAME) as conn:\n",
    "    total_rows = conn.execute(\"SELECT COUNT(*) FROM ais_messages\").fetchone()[0]\n",
    "    distinct_mmsi = conn.execute(\"SELECT COUNT(DISTINCT mmsi) FROM ais_messages\").fetchone()[0]\n",
    "    time_range = conn.execute(\"SELECT MIN(timestamp), MAX(timestamp) FROM ais_messages\").fetchone()\n",
    "\n",
    "print(\"\\n🧠 Basic AIS DB Stats:\")\n",
    "print(f\"📦 Total AIS messages: {total_rows}\")\n",
    "print(f\"🛥️ Distinct vessels (MMSI): {distinct_mmsi}\")\n",
    "print(f\"⏰ Time range: {time_range[0]} → {time_range[1]}\")"
   ]
  },
  {
   "cell_type": "code",
   "execution_count": 7,
   "id": "e3d55674-297e-44a4-add7-38fb8ce7560a",
   "metadata": {},
   "outputs": [],
   "source": [
    "# ------------------------------\n",
    "# 📌 STEP 3: GET DISTINCT MMSIs\n",
    "# ------------------------------"
   ]
  },
  {
   "cell_type": "code",
   "execution_count": 8,
   "id": "ac76974f-7676-44f3-b8e3-016425e54538",
   "metadata": {},
   "outputs": [
    {
     "name": "stdout",
     "output_type": "stream",
     "text": [
      "\n",
      "🛥️ Found 3 vessels: [123456789, 192837465, 987654321]\n"
     ]
    }
   ],
   "source": [
    "with sqlite3.connect(DB_NAME) as conn:\n",
    "    mmsi_list = [row[0] for row in conn.execute(\"SELECT DISTINCT mmsi FROM ais_messages\").fetchall()]\n",
    "print(f\"\\n🛥️ Found {len(mmsi_list)} vessels: {mmsi_list}\")"
   ]
  },
  {
   "cell_type": "code",
   "execution_count": 9,
   "id": "b75b879b-bab5-4f6c-a837-2236e5ce2032",
   "metadata": {},
   "outputs": [],
   "source": [
    "# -----------------------------------\n",
    "# 📌 STEP 4: GET FULL TRACK FUNCTION\n",
    "# -----------------------------------"
   ]
  },
  {
   "cell_type": "code",
   "execution_count": 10,
   "id": "0d535a3b-8dd6-4097-ba77-5d1e5cbcbdc2",
   "metadata": {},
   "outputs": [],
   "source": [
    "def get_full_track(mmsi):\n",
    "    conn = sqlite3.connect(DB_NAME)\n",
    "    query = f\"\"\"\n",
    "    SELECT timestamp, lat, lon, speed, heading, course\n",
    "    FROM ais_messages\n",
    "    WHERE mmsi = {mmsi}\n",
    "    ORDER BY timestamp\n",
    "    \"\"\"\n",
    "    df = pd.read_sql_query(query, conn)\n",
    "    conn.close()\n",
    "    return df"
   ]
  },
  {
   "cell_type": "code",
   "execution_count": 11,
   "id": "6baf2a11-7243-4abd-aaca-93bd551758c6",
   "metadata": {},
   "outputs": [],
   "source": [
    "# -------------------------------------------------\n",
    "# 📌 STEP 5: CALCULATE DISTANCE AND SPEED FUNCTION\n",
    "# -------------------------------------------------"
   ]
  },
  {
   "cell_type": "code",
   "execution_count": 12,
   "id": "27fb5e33-d2f1-4120-9069-ac3e743d54bd",
   "metadata": {},
   "outputs": [],
   "source": [
    "def calculate_distance_and_speed(df):\n",
    "    if df.empty or len(df) < 2:\n",
    "        return None, None\n",
    "\n",
    "    df[\"timestamp\"] = pd.to_datetime(df[\"timestamp\"].str.replace(\"Z\", \"\", regex=False), utc=True, errors=\"coerce\")\n",
    "    df = df.dropna(subset=[\"timestamp\"])\n",
    "    df[\"latitude\"] = df[\"lat\"]\n",
    "    df[\"longitude\"] = df[\"lon\"]\n",
    "\n",
    "    total_distance_km = 0\n",
    "    for i in range(1, len(df)):\n",
    "        coord1 = (df.loc[i-1, \"latitude\"], df.loc[i-1, \"longitude\"])\n",
    "        coord2 = (df.loc[i, \"latitude\"], df.loc[i, \"longitude\"])\n",
    "        total_distance_km += geodesic(coord1, coord2).km\n",
    "\n",
    "    time_diff_hours = (df[\"timestamp\"].iloc[-1] - df[\"timestamp\"].iloc[0]).total_seconds() / 3600\n",
    "    avg_speed = total_distance_km / time_diff_hours if time_diff_hours > 0 else 0\n",
    "\n",
    "    return total_distance_km, avg_speed"
   ]
  },
  {
   "cell_type": "code",
   "execution_count": 13,
   "id": "4486dbff-80d7-4101-991d-dcc064aa16a0",
   "metadata": {},
   "outputs": [],
   "source": [
    "# -------------------------------------\n",
    "# 📌 STEP 6: CALCULATE FOR ALL VESSELS\n",
    "# -------------------------------------"
   ]
  },
  {
   "cell_type": "code",
   "execution_count": 14,
   "id": "3e3d0ede-9e88-45c3-ade1-564b254227a4",
   "metadata": {},
   "outputs": [
    {
     "name": "stdout",
     "output_type": "stream",
     "text": [
      "\n",
      "📋 Vessel Distance and Speed Summary:\n",
      "\n",
      "🚢 MMSI 123456789:\n",
      "📏 Total distance traveled: 10700.66 km\n",
      "🚀 Average speed: 33.61 km/h\n",
      "\n",
      "🚢 MMSI 192837465:\n",
      "📏 Total distance traveled: 6176.98 km\n",
      "🚀 Average speed: 30.18 km/h\n",
      "\n",
      "🚢 MMSI 987654321:\n",
      "📏 Total distance traveled: 17842.91 km\n",
      "🚀 Average speed: 41.11 km/h\n",
      "\n",
      "📄 'vessel_analysis.csv' created successfully.\n"
     ]
    }
   ],
   "source": [
    "print(\"\\n📋 Vessel Distance and Speed Summary:\")\n",
    "results = []\n",
    "\n",
    "for mmsi in mmsi_list:\n",
    "    df_track = get_full_track(mmsi)\n",
    "    distance, avg_speed = calculate_distance_and_speed(df_track)\n",
    "\n",
    "    if distance is not None:\n",
    "        print(f\"\\n🚢 MMSI {mmsi}:\")\n",
    "        print(f\"📏 Total distance traveled: {distance:.2f} km\")\n",
    "        print(f\"🚀 Average speed: {avg_speed:.2f} km/h\")\n",
    "        results.append({\n",
    "            \"MMSI\": mmsi,\n",
    "            \"Total Distance (km)\": round(distance, 2),\n",
    "            \"Average Speed (km/h)\": round(avg_speed, 2)\n",
    "        })\n",
    "    else:\n",
    "        print(f\"\\n⚠️ MMSI {mmsi}: Not enough data to calculate.\")\n",
    "    # Save results to CSV\n",
    "df_results = pd.DataFrame(results)\n",
    "df_results.to_csv(\"vessel_analysis.csv\", index=False)\n",
    "print(\"\\n📄 'vessel_analysis.csv' created successfully.\")"
   ]
  },
  {
   "cell_type": "code",
   "execution_count": 15,
   "id": "8b949225-3877-42c1-a147-076d15a2b545",
   "metadata": {},
   "outputs": [],
   "source": [
    "# ------------------------\n",
    "# 📌 STEP 7: QUERY TIMING\n",
    "# ------------------------"
   ]
  },
  {
   "cell_type": "code",
   "execution_count": 16,
   "id": "1d5d3a73-ef60-4274-ab4a-b3fd0e7fbedf",
   "metadata": {},
   "outputs": [
    {
     "name": "stdout",
     "output_type": "stream",
     "text": [
      "\n",
      "🕒 Query time check for each MMSI:\n",
      "🚢 MMSI 123456789: 0.0372 sec\n",
      "🚢 MMSI 192837465: 0.0249 sec\n",
      "🚢 MMSI 987654321: 0.0493 sec\n"
     ]
    }
   ],
   "source": [
    "print(\"\\n🕒 Query time check for each MMSI:\")\n",
    "for mmsi in mmsi_list:\n",
    "    start = time.time()\n",
    "    _ = get_full_track(mmsi)\n",
    "    end = time.time()\n",
    "    print(f\"🚢 MMSI {mmsi}: {end - start:.4f} sec\")"
   ]
  },
  {
   "cell_type": "code",
   "execution_count": 17,
   "id": "4ac9eeb3-bca7-4e1d-8fec-f3c30ab13ad2",
   "metadata": {},
   "outputs": [],
   "source": [
    "# ----------------------\n",
    "# 📌 STEP 8: UNIT TESTS\n",
    "# ----------------------"
   ]
  },
  {
   "cell_type": "code",
   "execution_count": 18,
   "id": "42f20357-3fd3-4753-8feb-4e06a7d281b3",
   "metadata": {},
   "outputs": [
    {
     "name": "stderr",
     "output_type": "stream",
     "text": [
      "...\n",
      "----------------------------------------------------------------------\n",
      "Ran 3 tests in 0.158s\n",
      "\n",
      "OK\n"
     ]
    },
    {
     "data": {
      "text/plain": [
       "<unittest.main.TestProgram at 0x27591cfba10>"
      ]
     },
     "execution_count": 18,
     "metadata": {},
     "output_type": "execute_result"
    }
   ],
   "source": [
    "class TestAISClient(unittest.TestCase):\n",
    "    def setUp(self):\n",
    "        self.conn = sqlite3.connect(DB_NAME)\n",
    "        self.mmsi_list = [row[0] for row in self.conn.execute(\"SELECT DISTINCT mmsi FROM ais_messages\").fetchall()]\n",
    "\n",
    "    def tearDown(self):\n",
    "        self.conn.close()\n",
    "\n",
    "    def test_tracks_not_empty(self):\n",
    "        for mmsi in self.mmsi_list:\n",
    "            df = get_full_track(mmsi)\n",
    "            self.assertFalse(df.empty, f\"No data for MMSI {mmsi}\")\n",
    "\n",
    "    def test_lat_lon_valid(self):\n",
    "        for mmsi in self.mmsi_list:\n",
    "            df = pd.read_sql_query(f\"SELECT lat, lon FROM ais_messages WHERE mmsi={mmsi} LIMIT 100\", self.conn)\n",
    "            self.assertTrue(df['lat'].between(-90, 90).all(), f\"Invalid latitudes for {mmsi}\")\n",
    "            self.assertTrue(df['lon'].between(-180, 180).all(), f\"Invalid longitudes for {mmsi}\")\n",
    "\n",
    "    def test_timestamps_not_null(self):\n",
    "        for mmsi in self.mmsi_list:\n",
    "            df = pd.read_sql_query(f\"SELECT timestamp FROM ais_messages WHERE mmsi={mmsi} LIMIT 100\", self.conn)\n",
    "            self.assertFalse(df['timestamp'].isnull().any(), f\"Null timestamps for {mmsi}\")\n",
    "\n",
    "unittest.main(argv=[''], exit=False)"
   ]
  }
 ],
 "metadata": {
  "kernelspec": {
   "display_name": "Python 3 (ipykernel)",
   "language": "python",
   "name": "python3"
  },
  "language_info": {
   "codemirror_mode": {
    "name": "ipython",
    "version": 3
   },
   "file_extension": ".py",
   "mimetype": "text/x-python",
   "name": "python",
   "nbconvert_exporter": "python",
   "pygments_lexer": "ipython3",
   "version": "3.13.3"
  }
 },
 "nbformat": 4,
 "nbformat_minor": 5
}
