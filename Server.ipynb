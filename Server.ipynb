{
 "cells": [
  {
   "cell_type": "code",
   "execution_count": null,
   "id": "406e69e3-ca02-4049-a115-0bdb76e47965",
   "metadata": {},
   "outputs": [],
   "source": [
    "import asyncio\n",
    "import websockets\n",
    "import json\n",
    "\n",
    "async def send_ais(websocket, path):\n",
    "    try:\n",
    "        with open(\"messages.json\") as f:\n",
    "            data = json.load(f)\n",
    "\n",
    "        for msg in data:\n",
    "            await websocket.send(json.dumps(msg))\n",
    "            print(f\"✅ Sent: {msg}\")\n",
    "            await asyncio.sleep(5)\n",
    "\n",
    "        # ✅ Keep the connection open for inspection\n",
    "        while True:\n",
    "            await asyncio.sleep(10)\n",
    "\n",
    "    except websockets.exceptions.ConnectionClosed:\n",
    "        print(\"❌ Client disconnected.\")\n",
    "\n",
    "# Jupyter-safe way to start the server\n",
    "async def main():\n",
    "    print(\"🚀 Server starting at ws://localhost:8765\")\n",
    "    async with websockets.serve(send_ais, \"localhost\", 8765):\n",
    "        await asyncio.Future()  # run forever\n",
    "\n",
    "await main()"
   ]
  },
  {
   "cell_type": "code",
   "execution_count": null,
   "id": "9804e7d5-4bc1-4601-b300-7ff0185e464f",
   "metadata": {},
   "outputs": [],
   "source": []
  }
 ],
 "metadata": {
  "kernelspec": {
   "display_name": "Python 3 (ipykernel)",
   "language": "python",
   "name": "python3"
  },
  "language_info": {
   "codemirror_mode": {
    "name": "ipython",
    "version": 3
   },
   "file_extension": ".py",
   "mimetype": "text/x-python",
   "name": "python",
   "nbconvert_exporter": "python",
   "pygments_lexer": "ipython3",
   "version": "3.13.3"
  }
 },
 "nbformat": 4,
 "nbformat_minor": 5
}
