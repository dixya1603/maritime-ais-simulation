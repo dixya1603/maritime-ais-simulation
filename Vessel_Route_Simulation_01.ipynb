{
 "cells": [
  {
   "cell_type": "code",
   "execution_count": 1,
   "id": "2cfc0945-6e28-4cb3-a5e9-d0b721037d93",
   "metadata": {},
   "outputs": [],
   "source": [
    "# --------------------------------------\n",
    "# 📌 STEP 0: Import Important Libraries\n",
    "# --------------------------------------"
   ]
  },
  {
   "cell_type": "code",
   "execution_count": 2,
   "id": "0f80a041-a20d-48a9-8bb8-8a051cc35444",
   "metadata": {},
   "outputs": [],
   "source": [
    "import pandas as pd\n",
    "import datetime\n",
    "from geopy.distance import geodesic\n",
    "from collections import defaultdict\n",
    "import searoute as sr\n",
    "import json"
   ]
  },
  {
   "cell_type": "code",
   "execution_count": 3,
   "id": "3d991da6-8601-43c3-9dff-18a9628ef15a",
   "metadata": {},
   "outputs": [],
   "source": [
    "# ----------------------------\n",
    "# 📌 STEP 1: Load Port Data\n",
    "# ----------------------------"
   ]
  },
  {
   "cell_type": "code",
   "execution_count": 4,
   "id": "a9bbe21d-69e9-465f-9a7d-1d7f56cfdc07",
   "metadata": {},
   "outputs": [],
   "source": [
    "# Load the port database (CSV file with global port info)\n",
    "df_ports = pd.read_csv(\"C:\\\\Users\\\\Divya.M\\\\Downloads\\\\archive\\\\UpdatedPub150.csv\")"
   ]
  },
  {
   "cell_type": "code",
   "execution_count": 5,
   "id": "e48f28b8-d2e0-4735-842b-aeda82187359",
   "metadata": {},
   "outputs": [],
   "source": [
    "# ------------------------------------\n",
    "# 📌 STEP 2: Define Utility Functions\n",
    "# ------------------------------------"
   ]
  },
  {
   "cell_type": "code",
   "execution_count": 6,
   "id": "32df1a5b-f032-43d5-98a7-9fdfd55be801",
   "metadata": {},
   "outputs": [],
   "source": [
    "# Normalize longitude to range [-180, 180]\n",
    "def normalize_lon(lon):\n",
    "    return (lon + 180) % 360 - 180\n",
    "\n",
    "# Simulate vessel movement by interpolating between route coordinates\n",
    "def simulate_vessel_track(route_coords, start_time=None, speed_knots=20, interval_minutes=5):\n",
    "    track_points = []\n",
    "    speed_kmph = speed_knots * 1.852\n",
    "    interval_hours = interval_minutes / 60\n",
    "    distance_per_interval = speed_kmph * interval_hours\n",
    "\n",
    "    if start_time is None:\n",
    "        start_time = datetime.datetime.now(datetime.timezone.utc)\n",
    "    current_time = start_time\n",
    "\n",
    "    for i in range(len(route_coords) - 1):\n",
    "        start = route_coords[i]\n",
    "        end = route_coords[i + 1]\n",
    "        leg_distance_km = geodesic(start, end).km\n",
    "\n",
    "        if leg_distance_km == 0:\n",
    "            continue\n",
    "\n",
    "        num_steps = max(1, int(leg_distance_km // distance_per_interval))\n",
    "\n",
    "        for step in range(num_steps):\n",
    "            fraction = step / num_steps\n",
    "            lat = start[0] + (end[0] - start[0]) * fraction\n",
    "            lon = start[1] + (end[1] - start[1]) * fraction\n",
    "            lon = normalize_lon(lon)\n",
    "\n",
    "\n",
    "            track_points.append({\n",
    "                \"timestamp\": current_time.isoformat() + \"Z\",\n",
    "                \"latitude\": lat,\n",
    "                \"longitude\": lon,\n",
    "                \"speed\": speed_knots,   \n",
    "                \"mmsi\": vessel[\"mmsi\"]\n",
    "            })\n",
    "            current_time += datetime.timedelta(minutes=interval_minutes)\n",
    "        \n",
    "    return track_points"
   ]
  },
  {
   "cell_type": "code",
   "execution_count": 17,
   "id": "42b9b8f1-d8e4-4517-8cbd-7fced4414f75",
   "metadata": {},
   "outputs": [],
   "source": [
    "# ----------------------------\n",
    "# 📌 STEP 3: Define Vessels\n",
    "# ----------------------------"
   ]
  },
  {
   "cell_type": "code",
   "execution_count": 8,
   "id": "9eb034f9-121a-4387-bfb9-09266f0c6140",
   "metadata": {},
   "outputs": [],
   "source": [
    "# Each vessel has a unique MMSI, origin and destination port\n",
    "# 🛳️ List of vessels with port names, MMSI, and speed\n",
    "vessels = [\n",
    "    {\"mmsi\": 123456789, \"origin\": \"Shanghai\", \"destination\": \"Los Angeles\", \"speed_knots\": 18},\n",
    "    {\"mmsi\": 987654321, \"origin\": \"Singapore\", \"destination\": \"Sydney\", \"speed_knots\": 22},\n",
    "    {\"mmsi\": 192837465, \"origin\": \"New York\", \"destination\": \"Rotterdam\", \"speed_knots\": 16}\n",
    "]\n",
    "\n",
    "# Final list to hold all simulated points\n",
    "all_tracks = []"
   ]
  },
  {
   "cell_type": "code",
   "execution_count": 9,
   "id": "ab00749a-52fa-4eac-8558-24611fde1fb7",
   "metadata": {},
   "outputs": [],
   "source": [
    "# -------------------------------------------\n",
    "# 📌 STEP 4: Simulate Tracks for All Vessels\n",
    "# -------------------------------------------"
   ]
  },
  {
   "cell_type": "code",
   "execution_count": 10,
   "id": "4b0689ae-3466-4121-9ad4-c57eec7f67e8",
   "metadata": {},
   "outputs": [
    {
     "name": "stdout",
     "output_type": "stream",
     "text": [
      "✅ Track generated for Shanghai → Los Angeles (MMSI 123456789)\n",
      "✅ Track generated for Singapore → Sydney (MMSI 987654321)\n",
      "✅ Track generated for New York → Rotterdam (MMSI 192837465)\n",
      "\n",
      "🎉 Track generation complete! Total points: 11487\n"
     ]
    }
   ],
   "source": [
    "for vessel in vessels:\n",
    "    try:\n",
    "        # Step 1: Extract coordinates from port DB\n",
    "        origin = df_ports[df_ports['Main Port Name'].str.contains(vessel['origin'], case=False, na=False)][['Longitude', 'Latitude']].iloc[0]\n",
    "        destination = df_ports[df_ports['Main Port Name'].str.contains(vessel['destination'], case=False, na=False)][['Longitude', 'Latitude']].iloc[0]\n",
    "        origin_coords = (origin['Longitude'], origin['Latitude'])\n",
    "        destination_coords = (destination['Longitude'], destination['Latitude'])\n",
    "\n",
    "        # Step 2: Get the sea route\n",
    "        route = sr.searoute(origin_coords, destination_coords)\n",
    "        route_coords = [(lat, lon) for lon, lat in route['geometry']['coordinates']]  # Swap to (lat, lon)\n",
    "\n",
    "        # Step 3: Simulate movement along route\n",
    "        vessel_track = simulate_vessel_track(route_coords, speed_knots=vessel[\"speed_knots\"])\n",
    "\n",
    "        # Step 4: Attach MMSI to each point\n",
    "        for point in vessel_track:\n",
    "            point[\"mmsi\"] = vessel[\"mmsi\"]\n",
    "\n",
    "        # Step 5: Add to full track list\n",
    "        all_tracks.extend(vessel_track)\n",
    "\n",
    "        print(f\"✅ Track generated for {vessel['origin']} → {vessel['destination']} (MMSI {vessel['mmsi']})\")\n",
    "\n",
    "    except Exception as e:\n",
    "        print(f\"⚠️ Error with {vessel['origin']} → {vessel['destination']}: {e}\")\n",
    "\n",
    "print(f\"\\n🎉 Track generation complete! Total points: {len(all_tracks)}\")"
   ]
  },
  {
   "cell_type": "code",
   "execution_count": 11,
   "id": "5d67692a-258a-4fe0-b034-ddabacea049b",
   "metadata": {},
   "outputs": [],
   "source": [
    "# --------------------------------\n",
    "# 📌 STEP 5: Validate Coordinates\n",
    "# --------------------------------"
   ]
  },
  {
   "cell_type": "code",
   "execution_count": 12,
   "id": "ec7d1216-0622-4418-b35e-714ec7fa04e4",
   "metadata": {},
   "outputs": [
    {
     "name": "stdout",
     "output_type": "stream",
     "text": [
      "\n",
      "🛡️ Validation complete: 11487 valid points, 0 invalid discarded.\n"
     ]
    }
   ],
   "source": [
    "validated_tracks = []\n",
    "invalid_points = 0\n",
    "valid_points_by_mmsi = defaultdict(int)\n",
    "\n",
    "for point in all_tracks:\n",
    "    lat = point['latitude']\n",
    "    lon = point['longitude']\n",
    "    mmsi = point['mmsi']\n",
    "\n",
    "    if -90 <= lat <= 90 and -180 <= lon <= 180:\n",
    "        validated_tracks.append(point)\n",
    "        valid_points_by_mmsi[mmsi] += 1\n",
    "    else:\n",
    "        invalid_points += 1\n",
    "\n",
    "print(f\"\\n🛡️ Validation complete: {len(validated_tracks)} valid points, {invalid_points} invalid discarded.\")"
   ]
  },
  {
   "cell_type": "code",
   "execution_count": 13,
   "id": "bb25bec2-6469-4b57-8345-9ae26c6e0c65",
   "metadata": {},
   "outputs": [],
   "source": [
    "# -------------------------\n",
    "# 📌 STEP 6: Sample Output\n",
    "# -------------------------"
   ]
  },
  {
   "cell_type": "code",
   "execution_count": 14,
   "id": "b642d459-1344-44bf-a950-23547ff4a07a",
   "metadata": {},
   "outputs": [
    {
     "name": "stdout",
     "output_type": "stream",
     "text": [
      "\n",
      "🚢 MMSI 123456789: First 5 points:\n",
      "{'timestamp': '2025-04-30T10:13:52.788336+00:00Z', 'latitude': 30.732393, 'longitude': 121.82739300000003, 'speed': 18, 'mmsi': 123456789}\n",
      "{'timestamp': '2025-04-30T10:18:52.788336+00:00Z', 'latitude': 30.73591393103448, 'longitude': 121.85671048275861, 'speed': 18, 'mmsi': 123456789}\n",
      "{'timestamp': '2025-04-30T10:23:52.788336+00:00Z', 'latitude': 30.739434862068965, 'longitude': 121.88602796551726, 'speed': 18, 'mmsi': 123456789}\n",
      "{'timestamp': '2025-04-30T10:28:52.788336+00:00Z', 'latitude': 30.742955793103448, 'longitude': 121.91534544827584, 'speed': 18, 'mmsi': 123456789}\n",
      "{'timestamp': '2025-04-30T10:33:52.788336+00:00Z', 'latitude': 30.746476724137928, 'longitude': 121.94466293103449, 'speed': 18, 'mmsi': 123456789}\n",
      "\n",
      "🚢 MMSI 987654321: First 5 points:\n",
      "{'timestamp': '2025-04-30T10:13:52.964920+00:00Z', 'latitude': 1.1, 'longitude': 103.60000000000002, 'speed': 22, 'mmsi': 987654321}\n",
      "{'timestamp': '2025-04-30T10:18:52.964920+00:00Z', 'latitude': 1.115, 'longitude': 103.57333333333332, 'speed': 22, 'mmsi': 987654321}\n",
      "{'timestamp': '2025-04-30T10:23:52.964920+00:00Z', 'latitude': 1.1300000000000001, 'longitude': 103.54666666666668, 'speed': 22, 'mmsi': 987654321}\n",
      "{'timestamp': '2025-04-30T10:28:52.964920+00:00Z', 'latitude': 1.145, 'longitude': 103.51999999999998, 'speed': 22, 'mmsi': 987654321}\n",
      "{'timestamp': '2025-04-30T10:33:52.964920+00:00Z', 'latitude': 1.1600000000000001, 'longitude': 103.49333333333334, 'speed': 22, 'mmsi': 987654321}\n",
      "\n",
      "🚢 MMSI 192837465: First 5 points:\n",
      "{'timestamp': '2025-04-30T10:13:53.105196+00:00Z', 'latitude': 40.7081, 'longitude': -73.9779, 'speed': 16, 'mmsi': 192837465}\n",
      "{'timestamp': '2025-04-30T10:18:53.105196+00:00Z', 'latitude': 40.73715, 'longitude': -73.96385000000001, 'speed': 16, 'mmsi': 192837465}\n",
      "{'timestamp': '2025-04-30T10:23:53.105196+00:00Z', 'latitude': 40.7662, 'longitude': -73.9498, 'speed': 16, 'mmsi': 192837465}\n",
      "{'timestamp': '2025-04-30T10:28:53.105196+00:00Z', 'latitude': 40.781800000000004, 'longitude': -73.9271, 'speed': 16, 'mmsi': 192837465}\n",
      "{'timestamp': '2025-04-30T10:33:53.105196+00:00Z', 'latitude': 40.7974, 'longitude': -73.9044, 'speed': 16, 'mmsi': 192837465}\n",
      "\n",
      "📋 Valid points per vessel:\n",
      "🚢 MMSI 123456789: 3821 points\n",
      "🚢 MMSI 987654321: 5209 points\n",
      "🚢 MMSI 192837465: 2457 points\n"
     ]
    }
   ],
   "source": [
    "tracks_by_mmsi = defaultdict(list)\n",
    "for point in validated_tracks:\n",
    "    tracks_by_mmsi[point['mmsi']].append(point)\n",
    "\n",
    "# Print sample for each vessel\n",
    "for mmsi, points in tracks_by_mmsi.items():\n",
    "    print(f\"\\n🚢 MMSI {mmsi}: First 5 points:\")\n",
    "    for p in points[:5]:\n",
    "        print(p)\n",
    "\n",
    "# Print total valid points per vessel\n",
    "print(\"\\n📋 Valid points per vessel:\")\n",
    "for mmsi, count in valid_points_by_mmsi.items():\n",
    "    print(f\"🚢 MMSI {mmsi}: {count} points\")"
   ]
  },
  {
   "cell_type": "code",
   "execution_count": 15,
   "id": "19d1216d-83fd-4a74-9b57-f20e32729b13",
   "metadata": {},
   "outputs": [],
   "source": [
    "# -----------------------------------\n",
    "# 📌 STEP 7: (Optional) Save to File\n",
    "# -----------------------------------"
   ]
  },
  {
   "cell_type": "code",
   "execution_count": 16,
   "id": "a310bbfe-c079-4b6d-993a-3c2de8fa004a",
   "metadata": {},
   "outputs": [
    {
     "name": "stdout",
     "output_type": "stream",
     "text": [
      "\n",
      "💾 Saved validated tracks to 'multi_vessel_tracks.json'\n"
     ]
    }
   ],
   "source": [
    "# Save to JSON\n",
    "with open(\"multi_vessel_tracks.json\", \"w\") as f:\n",
    "    json.dump(validated_tracks, f, indent=2)\n",
    "\n",
    "print(\"\\n💾 Saved validated tracks to 'multi_vessel_tracks.json'\")"
   ]
  }
 ],
 "metadata": {
  "kernelspec": {
   "display_name": "Python 3 (ipykernel)",
   "language": "python",
   "name": "python3"
  },
  "language_info": {
   "codemirror_mode": {
    "name": "ipython",
    "version": 3
   },
   "file_extension": ".py",
   "mimetype": "text/x-python",
   "name": "python",
   "nbconvert_exporter": "python",
   "pygments_lexer": "ipython3",
   "version": "3.13.3"
  }
 },
 "nbformat": 4,
 "nbformat_minor": 5
}
