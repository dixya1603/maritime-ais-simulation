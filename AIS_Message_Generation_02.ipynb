{
 "cells": [
  {
   "cell_type": "code",
   "execution_count": 1,
   "id": "2ae5c475-7331-478b-a55f-02d517294a9c",
   "metadata": {},
   "outputs": [],
   "source": [
    "# --------------------------------------\n",
    "# 📌 STEP 0: Import Important Libraries\n",
    "# --------------------------------------"
   ]
  },
  {
   "cell_type": "code",
   "execution_count": 2,
   "id": "ae197dda-3758-49ea-bd90-8461a691cf14",
   "metadata": {},
   "outputs": [],
   "source": [
    "import json\n",
    "from pyais.encode import encode_dict\n",
    "from collections import defaultdict"
   ]
  },
  {
   "cell_type": "code",
   "execution_count": 3,
   "id": "0a24e0e7-c330-4dfa-844c-fa543d2add9a",
   "metadata": {},
   "outputs": [],
   "source": [
    "# -------------------------------------------------------------\n",
    "# 📌 STEP 1: FUNCTION TO GENERATE AIS MESSAGES FROM TRACK DATA\n",
    "# -------------------------------------------------------------"
   ]
  },
  {
   "cell_type": "code",
   "execution_count": 4,
   "id": "7f8e9a64-d294-4ddf-a253-93f5db2788d2",
   "metadata": {},
   "outputs": [],
   "source": [
    "def generate_ais_messages(track):\n",
    "    \"\"\"\n",
    "    Generates AIS messages using pyais from given vessel track data.\n",
    "\n",
    "    Parameters:\n",
    "    - track: List of dictionaries containing timestamp, lat, lon, and MMSI.\n",
    "\n",
    "    Returns:\n",
    "    - List of AIS messages (dicts) encoded using AIVDM format.\n",
    "    \"\"\"\n",
    "    ais_messages = []\n",
    "\n",
    "    for point in track:\n",
    "        lat = point[\"latitude\"]\n",
    "        lon = point[\"longitude\"]\n",
    "        timestamp = point[\"timestamp\"]\n",
    "        mmsi = point[\"mmsi\"]\n",
    "        speed = point.get(\"speed\", 15.5)\n",
    "        \n",
    "        try:\n",
    "            # Encode using pyais\n",
    "            encoded_msgs = encode_dict({\n",
    "                \"mmsi\": mmsi,\n",
    "                \"lat\": lat,\n",
    "                \"lon\": lon,\n",
    "                \"speed\": speed,       \n",
    "                \"course\": 90.0,      # Default course\n",
    "                \"heading\": 90,       # Default heading\n",
    "                \"type\": 1            # Position report type\n",
    "            })\n",
    "\n",
    "            for encoded_msg in encoded_msgs:\n",
    "                ais_messages.append({\n",
    "                    \"message\": \"AIVDM\",\n",
    "                    \"mmsi\": mmsi,\n",
    "                    \"timestamp\": timestamp,\n",
    "                    \"payload\": encoded_msg\n",
    "                })\n",
    "\n",
    "        except Exception as e:\n",
    "            print(f\"❌ Error generating AIS message for MMSI {mmsi} at {timestamp}: {e}\")\n",
    "\n",
    "    return ais_messages"
   ]
  },
  {
   "cell_type": "code",
   "execution_count": 5,
   "id": "d67afbae-dedb-41b0-9669-51157907b3fb",
   "metadata": {},
   "outputs": [],
   "source": [
    "# --------------------------------------------\n",
    "# 📌 STEP 2: LOAD SIMULATED VESSEL TRACK DATA\n",
    "# --------------------------------------------"
   ]
  },
  {
   "cell_type": "code",
   "execution_count": 6,
   "id": "8864ca43-6fc4-4495-9b32-5121e0a0d50a",
   "metadata": {},
   "outputs": [],
   "source": [
    "with open(\"multi_vessel_tracks.json\", \"r\") as f:\n",
    "    vessel_tracks = json.load(f)"
   ]
  },
  {
   "cell_type": "code",
   "execution_count": 7,
   "id": "4f02ec73-77be-4b79-8f31-ef07ea0e16d6",
   "metadata": {},
   "outputs": [
    {
     "name": "stdout",
     "output_type": "stream",
     "text": [
      "{'timestamp': '2025-04-30T09:38:40.869824+00:00Z', 'latitude': 30.732393, 'longitude': 121.82739300000003, 'speed': 18, 'mmsi': 123456789}\n"
     ]
    }
   ],
   "source": [
    "print(vessel_tracks[0])"
   ]
  },
  {
   "cell_type": "code",
   "execution_count": 8,
   "id": "28e0d18e-d063-441b-934a-7dbd1952f9f8",
   "metadata": {},
   "outputs": [],
   "source": [
    "# -------------------------------------------------\n",
    "# 📌 STEP 3: GENERATE AIS MESSAGES FOR ALL VESSELS\n",
    "# -------------------------------------------------"
   ]
  },
  {
   "cell_type": "code",
   "execution_count": 9,
   "id": "d0b08d67-321c-4038-926b-90a7c51b0a59",
   "metadata": {},
   "outputs": [],
   "source": [
    "ais_data = generate_ais_messages(vessel_tracks)"
   ]
  },
  {
   "cell_type": "code",
   "execution_count": 10,
   "id": "646c5b83-b215-4f0a-9487-88919ea8f870",
   "metadata": {},
   "outputs": [],
   "source": [
    "# --------------------------------------\n",
    "# 📌 STEP 4: GROUP AIS MESSAGES BY MMSI\n",
    "# --------------------------------------"
   ]
  },
  {
   "cell_type": "code",
   "execution_count": 11,
   "id": "c2025ee2-2cfd-4794-b79b-0c65f8fc6fc0",
   "metadata": {},
   "outputs": [],
   "source": [
    "messages_by_mmsi = defaultdict(list)\n",
    "\n",
    "for msg in ais_data:\n",
    "    messages_by_mmsi[msg['mmsi']].append(msg)"
   ]
  },
  {
   "cell_type": "code",
   "execution_count": 12,
   "id": "44c7d9f5-fc27-4a09-89e2-7ad87e67660a",
   "metadata": {},
   "outputs": [],
   "source": [
    "# ---------------------------------------------\n",
    "# 📌 STEP 5: DISPLAY SAMPLE MESSAGES PER VESSEL\n",
    "# ---------------------------------------------"
   ]
  },
  {
   "cell_type": "code",
   "execution_count": 13,
   "id": "20561c0b-fd2b-4733-a380-d55cf601ae20",
   "metadata": {},
   "outputs": [
    {
     "name": "stdout",
     "output_type": "stream",
     "text": [
      "\n",
      "🔍 Sample AIS messages per vessel:\n",
      "\n",
      "🚢 MMSI: 123456789 — First 5 AIS Messages:\n",
      "{'message': 'AIVDM', 'mmsi': 123456789, 'timestamp': '2025-04-30T09:38:40.869824+00:00Z', 'payload': '!AIVDO,1,1,,A,11mg=5OP2l8ecW`AUM33Q2l1P000,0*69'}\n",
      "{'message': 'AIVDM', 'mmsi': 123456789, 'timestamp': '2025-04-30T09:43:40.869824+00:00Z', 'payload': '!AIVDO,1,1,,A,11mg=5OP2l8el=DAUUC3Q2l1P000,0*40'}\n",
      "{'message': 'AIVDM', 'mmsi': 123456789, 'timestamp': '2025-04-30T09:48:40.869824+00:00Z', 'payload': '!AIVDO,1,1,,A,11mg=5OP2l8etk2AUeSCQ2l1P000,0*28'}\n",
      "{'message': 'AIVDM', 'mmsi': 123456789, 'timestamp': '2025-04-30T09:53:40.869824+00:00Z', 'payload': '!AIVDO,1,1,,A,11mg=5OP2l8f5HfAUmkCQ2l1P000,0*2D'}\n",
      "{'message': 'AIVDM', 'mmsi': 123456789, 'timestamp': '2025-04-30T09:58:40.869824+00:00Z', 'payload': '!AIVDO,1,1,,A,11mg=5OP2l8f=vLAUv3SQ2l1P000,0*62'}\n",
      "\n",
      "🚢 MMSI: 987654321 — First 5 AIS Messages:\n",
      "{'message': 'AIVDM', 'mmsi': 987654321, 'timestamp': '2025-04-30T09:38:41.054395+00:00Z', 'payload': '!AIVDO,1,1,,A,1>eq`dOP3L7J?T00`B83Q2l1P000,0*3A'}\n",
      "{'message': 'AIVDM', 'mmsi': 987654321, 'timestamp': '2025-04-30T09:43:41.054395+00:00Z', 'payload': '!AIVDO,1,1,,A,1>eq`dOP3L7J7h00`mB3Q2l1P000,0*5B'}\n",
      "{'message': 'AIVDM', 'mmsi': 987654321, 'timestamp': '2025-04-30T09:48:41.054395+00:00Z', 'payload': '!AIVDO,1,1,,A,1>eq`dOP3L7Iwt00aHL3Q2l1P000,0*2E'}\n",
      "{'message': 'AIVDM', 'mmsi': 987654321, 'timestamp': '2025-04-30T09:53:41.054395+00:00Z', 'payload': '!AIVDO,1,1,,A,1>eq`dOP3L7Ip800asV3Q2l1P000,0*44'}\n",
      "{'message': 'AIVDM', 'mmsi': 987654321, 'timestamp': '2025-04-30T09:58:41.054395+00:00Z', 'payload': '!AIVDO,1,1,,A,1>eq`dOP3L7IhD00bNh3Q2l1P000,0*20'}\n",
      "\n",
      "🚢 MMSI: 192837465 — First 5 AIS Messages:\n",
      "{'message': 'AIVDM', 'mmsi': 192837465, 'timestamp': '2025-04-30T09:38:41.202311+00:00Z', 'payload': '!AIVDO,1,1,,A,12oqoFOP2PJeFjHGBiW3Q2l1P000,0*70'}\n",
      "{'message': 'AIVDM', 'mmsi': 192837465, 'timestamp': '2025-04-30T09:43:41.202311+00:00Z', 'payload': '!AIVDO,1,1,,A,12oqoFOP2PJeJqlGCmdSQ2l1P000,0*15'}\n",
      "{'message': 'AIVDM', 'mmsi': 192837465, 'timestamp': '2025-04-30T09:48:41.202311+00:00Z', 'payload': '!AIVDO,1,1,,A,12oqoFOP2PJeO1@GDqj3Q2l1P000,0*09'}\n",
      "{'message': 'AIVDM', 'mmsi': 192837465, 'timestamp': '2025-04-30T09:53:41.202311+00:00Z', 'payload': '!AIVDO,1,1,,A,12oqoFOP2PJeUbpGENF3Q2l1P000,0*62'}\n",
      "{'message': 'AIVDM', 'mmsi': 192837465, 'timestamp': '2025-04-30T09:58:41.202311+00:00Z', 'payload': '!AIVDO,1,1,,A,12oqoFOP2PJedDPGF2r3Q2l1P000,0*1E'}\n"
     ]
    }
   ],
   "source": [
    "print(\"\\n🔍 Sample AIS messages per vessel:\")\n",
    "for mmsi, msgs in messages_by_mmsi.items():\n",
    "    print(f\"\\n🚢 MMSI: {mmsi} — First 5 AIS Messages:\")\n",
    "    for m in msgs[:5]:\n",
    "        print(m)"
   ]
  },
  {
   "cell_type": "code",
   "execution_count": 14,
   "id": "d9f2f91f-1b7a-4f93-b8c6-f79f1329feff",
   "metadata": {},
   "outputs": [],
   "source": [
    "# -----------------------------------------------\n",
    "# 📌 STEP 6: SAVE GENERATED AIS MESSAGES TO FILE\n",
    "# -----------------------------------------------"
   ]
  },
  {
   "cell_type": "code",
   "execution_count": 15,
   "id": "d6e9eae2-a0e6-4fce-a4fa-fcd456b61546",
   "metadata": {},
   "outputs": [
    {
     "name": "stdout",
     "output_type": "stream",
     "text": [
      "\n",
      "🎉 AIS message generation complete! Total messages: 11487 saved into 'ais_data.json'\n"
     ]
    }
   ],
   "source": [
    "with open(\"ais_data.json\", \"w\") as f:\n",
    "    json.dump(ais_data, f)\n",
    "\n",
    "print(f\"\\n🎉 AIS message generation complete! Total messages: {len(ais_data)} saved into 'ais_data.json'\")"
   ]
  }
 ],
 "metadata": {
  "kernelspec": {
   "display_name": "Python 3 (ipykernel)",
   "language": "python",
   "name": "python3"
  },
  "language_info": {
   "codemirror_mode": {
    "name": "ipython",
    "version": 3
   },
   "file_extension": ".py",
   "mimetype": "text/x-python",
   "name": "python",
   "nbconvert_exporter": "python",
   "pygments_lexer": "ipython3",
   "version": "3.13.3"
  }
 },
 "nbformat": 4,
 "nbformat_minor": 5
}
